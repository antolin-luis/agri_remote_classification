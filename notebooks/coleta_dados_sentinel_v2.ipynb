{
 "cells": [
  {
   "cell_type": "markdown",
   "metadata": {},
   "source": [
    "# Coleta de Dados do Sentinel-2 usando Google Earth Engine\n",
    "\n",
    "Este notebook demonstra como coletar dados do Sentinel-2 para áreas de interesse definidas em arquivos KML."
   ]
  },
  {
   "cell_type": "code",
   "execution_count": 2,
   "metadata": {},
   "outputs": [],
   "source": [
    "import sys\n",
    "sys.path.append('..')\n",
    "\n",
    "import ee\n",
    "from pathlib import Path\n",
    "from src.data.gee_collector import SentinelCollector\n",
    "from src.data.dataset_manager import DatasetManager"
   ]
  },
  {
   "cell_type": "markdown",
   "metadata": {},
   "source": [
    "## 1. Configurar o Ambiente\n",
    "\n",
    "Primeiro, vamos configurar os diretórios e inicializar os componentes necessários:"
   ]
  },
  {
   "cell_type": "code",
   "execution_count": 3,
   "metadata": {},
   "outputs": [],
   "source": [
    "# Configurar diretórios\n",
    "data_dir = Path('../data')\n",
    "kml_dir = data_dir / 'kmls'  # Diretório único para todos os KMLs\n",
    "output_dir = data_dir / 'tiffs'\n",
    "\n",
    "# Criar diretórios se não existirem\n",
    "kml_dir.mkdir(parents=True, exist_ok=True)\n",
    "output_dir.mkdir(parents=True, exist_ok=True)\n",
    "\n",
    "# Inicializar o coletor com o diretório dos KMLs\n",
    "collector = SentinelCollector(\n",
    "    train_val_dir=str(kml_dir)\n",
    ")"
   ]
  },
  {
   "cell_type": "markdown",
   "metadata": {},
   "source": [
    "## 2. Carregar e Dividir Regiões\n",
    "\n",
    "O SentinelCollector usa internamente o DatasetManager para gerenciar os KMLs:"
   ]
  },
  {
   "cell_type": "code",
   "execution_count": 4,
   "metadata": {},
   "outputs": [
    {
     "name": "stdout",
     "output_type": "stream",
     "text": [
      "Número de regiões para treino: 4\n",
      "Número de regiões para validação: 1\n"
     ]
    }
   ],
   "source": [
    "# Carregar e dividir regiões usando o dataset_manager interno do collector\n",
    "train_regions, val_regions = collector.dataset_manager.load_train_val_regions(val_split=0.2)\n",
    "\n",
    "print(f\"Número de regiões para treino: {len(train_regions)}\")\n",
    "print(f\"Número de regiões para validação: {len(val_regions)}\")"
   ]
  },
  {
   "cell_type": "markdown",
   "metadata": {},
   "source": [
    "## 3. Coletar Imagens do Sentinel-2\n",
    "\n",
    "Agora vamos coletar as imagens para as regiões de treino e validação:"
   ]
  },
  {
   "cell_type": "code",
   "execution_count": 5,
   "metadata": {},
   "outputs": [],
   "source": [
    "# Parâmetros de coleta\n",
    "collection_params = {\n",
    "    'years_back': 5,  # Últimos 2 anos de dados\n",
    "    'max_cloud_cover': 20  # Máximo de 20% de cobertura de nuvens\n",
    "}\n",
    "\n",
    "# Coletar imagens\n",
    "train_collection = collector.get_sentinel_collection(\n",
    "    regions=train_regions,\n",
    "    **collection_params\n",
    ")\n",
    "\n",
    "val_collection = collector.get_sentinel_collection(\n",
    "    regions=val_regions,\n",
    "    **collection_params\n",
    ")"
   ]
  },
  {
   "cell_type": "markdown",
   "metadata": {},
   "source": [
    "## 4. Exportar para GeoTIFF\n",
    "\n",
    "Vamos exportar as imagens coletadas para arquivos GeoTIFF:"
   ]
  },
  {
   "cell_type": "code",
   "execution_count": 6,
   "metadata": {},
   "outputs": [
    {
     "name": "stdout",
     "output_type": "stream",
     "text": [
      "Started export task: treino_sentinel2\n",
      "You can monitor the task status at: https://code.earthengine.google.com/tasks\n",
      "Started export task: validacao_sentinel2\n",
      "You can monitor the task status at: https://code.earthengine.google.com/tasks\n"
     ]
    }
   ],
   "source": [
    "# Configurar parâmetros de exportação\n",
    "export_params = {\n",
    "    'scale': 10,  # Resolução de 10 metros\n",
    "    'patch_size': 64,  # Tamanho do patch em pixels\n",
    "    'bands': ['B8', 'B4', 'B11']  # Bandas relevantes para vegetação\n",
    "}\n",
    "\n",
    "# Exportar dados de treino\n",
    "collector.export_to_drive(\n",
    "    collection=train_collection,\n",
    "    regions=train_regions,\n",
    "    output_prefix='treino',\n",
    "    **export_params\n",
    ")\n",
    "\n",
    "# Exportar dados de validação\n",
    "collector.export_to_drive(\n",
    "    collection=val_collection,\n",
    "    regions=val_regions,\n",
    "    output_prefix='validacao',\n",
    "    **export_params\n",
    ")"
   ]
  },
  {
   "cell_type": "markdown",
   "metadata": {},
   "source": [
    "## 5. Monitorar Exportação e Próximos Passos\n",
    "\n",
    "### Monitoramento\n",
    "As tarefas de exportação serão executadas no Google Earth Engine. Você pode monitorar o progresso em:\n",
    "https://code.earthengine.google.com/tasks\n",
    "\n",
    "### Organização dos KMLs\n",
    "- Coloque todos os seus arquivos KML no diretório `kmls`\n",
    "- O SentinelCollector (através do DatasetManager) irá automaticamente:\n",
    "  - Carregar todos os KMLs do diretório\n",
    "  - Dividir as regiões em treino/validação\n",
    "  - Manter a consistência entre as divisões\n",
    "\n",
    "### Após a Exportação\n",
    "1. Baixe os arquivos GeoTIFF do Google Drive\n",
    "2. Mova-os para o diretório `tiffs` do projeto\n",
    "3. Use o TiffLoader para preparar os dados para treinamento\n",
    "\n",
    "### Importante\n",
    "Certifique-se de que você tem:\n",
    "- Acesso configurado ao Google Earth Engine\n",
    "- Espaço suficiente no Google Drive\n",
    "- KMLs bem definidos para suas áreas de interesse"
   ]
  }
 ],
 "metadata": {
  "kernelspec": {
   "display_name": ".rmt",
   "language": "python",
   "name": "python3"
  },
  "language_info": {
   "codemirror_mode": {
    "name": "ipython",
    "version": 3
   },
   "file_extension": ".py",
   "mimetype": "text/x-python",
   "name": "python",
   "nbconvert_exporter": "python",
   "pygments_lexer": "ipython3",
   "version": "3.10.12"
  }
 },
 "nbformat": 4,
 "nbformat_minor": 4
}
