{
 "cells": [
  {
   "cell_type": "markdown",
   "metadata": {},
   "source": [
    "# Análise e Categorização de Clusters para Agricultura e Floresta\n",
    "\n",
    "Este notebook guia o processo de análise cuidadosa e categorização manual dos clusters identificados pelo modelo não supervisionado, com foco específico em áreas agrícolas e florestais.\n",
    "\n",
    "## Objetivos:\n",
    "1. Analisar características espectrais e espaciais de cada cluster\n",
    "2. Validar interpretações com dados de referência\n",
    "3. Documentar o processo de decisão\n",
    "4. Atribuir categorias com níveis de confiança apropriados"
   ]
  },
  {
   "cell_type": "code",
   "execution_count": null,
   "metadata": {},
   "source": [
    "import sys\n",
    "sys.path.append('..')\n",
    "\n",
    "import numpy as np\n",
    "import matplotlib.pyplot as plt\n",
    "import seaborn as sns\n",
    "import pandas as pd\n",
    "from src.models.cluster_categorizer import ClusterCategorizer\n",
    "from src.models.unsupervised_cnn import UnsupervisedCNN\n",
    "from src.data.tiff_loader import TiffLoader\n",
    "\n",
    "%matplotlib inline\n",
    "plt.style.use('seaborn')"
   ]
  },
  {
   "cell_type": "markdown",
   "metadata": {},
   "source": [
    "## 1. Carregar Modelo e Dados\n",
    "\n",
    "Primeiro, vamos carregar o modelo treinado e alguns dados para análise:"
   ]
  },
  {
   "cell_type": "code",
   "execution_count": null,
   "metadata": {},
   "source": [
    "# Carregar modelo e dados\n",
    "model = UnsupervisedCNN.load_model('path_to_your_model')\n",
    "loader = TiffLoader(train_val_dir='../data/train')\n",
    "train_ds, _ = loader.load_train_val_data()\n",
    "X_samples = np.concatenate([batch.numpy() for batch in train_ds.take(20)], axis=0)\n",
    "predictions = model.predict(X_samples)"
   ]
  },
  {
   "cell_type": "markdown",
   "metadata": {},
   "source": [
    "## 2. Análise Espectral dos Clusters\n",
    "\n",
    "Vamos analisar as características espectrais de cada cluster:"
   ]
  },
  {
   "cell_type": "code",
   "execution_count": null,
   "metadata": {},
   "source": [
    "def plot_spectral_signatures(X, predictions, n_clusters):\n",
    "    \"\"\"Plotar assinaturas espectrais médias por cluster\"\"\"\n",
    "    plt.figure(figsize=(12, 6))\n",
    "    bands = ['NIR (B8)', 'Red (B4)', 'SWIR (B11)']\n",
    "    \n",
    "    for cluster in range(n_clusters):\n",
    "        cluster_samples = X[predictions == cluster]\n",
    "        mean_signature = np.mean(cluster_samples, axis=(0,1))  # Média por banda\n",
    "        plt.plot(bands, mean_signature, 'o-', label=f'Cluster {cluster}')\n",
    "    \n",
    "    plt.title('Assinaturas Espectrais por Cluster')\n",
    "    plt.xlabel('Bandas')\n",
    "    plt.ylabel('Reflectância Média')\n",
    "    plt.legend()\n",
    "    plt.grid(True)\n",
    "\n",
    "plot_spectral_signatures(X_samples, predictions, model.n_clusters)"
   ]
  },
  {
   "cell_type": "markdown",
   "metadata": {},
   "source": [
    "## 3. Análise de Textura e Padrões Espaciais\n",
    "\n",
    "Vamos examinar as características espaciais de cada cluster:"
   ]
  },
  {
   "cell_type": "code",
   "execution_count": null,
   "metadata": {},
   "source": [
    "def analyze_spatial_patterns(X, predictions, cluster_id, n_samples=10):\n",
    "    \"\"\"Análise detalhada de padrões espaciais para um cluster\"\"\"\n",
    "    cluster_samples = X[predictions == cluster_id][:n_samples]\n",
    "    \n",
    "    plt.figure(figsize=(15, 6))\n",
    "    for i, sample in enumerate(cluster_samples):\n",
    "        plt.subplot(2, 5, i+1)\n",
    "        plt.imshow(sample)\n",
    "        plt.axis('off')\n",
    "        \n",
    "    plt.suptitle(f'Análise de Padrões Espaciais - Cluster {cluster_id}')\n",
    "    plt.tight_layout()\n",
    "\n",
    "# Analisar cada cluster individualmente\n",
    "for cluster in range(model.n_clusters):\n",
    "    analyze_spatial_patterns(X_samples, predictions, cluster)"
   ]
  },
  {
   "cell_type": "markdown",
   "metadata": {},
   "source": [
    "## 4. Checklist de Validação\n",
    "\n",
    "Para cada cluster, vamos preencher um checklist de características antes de atribuir uma categoria:"
   ]
  },
  {
   "cell_type": "code",
   "execution_count": null,
   "metadata": {},
   "source": [
    "def create_cluster_checklist(cluster_id):\n",
    "    \"\"\"Criar um checklist interativo para análise do cluster\"\"\"\n",
    "    checklist = pd.DataFrame({\n",
    "        'Característica': [\n",
    "            'Alta reflectância no NIR',\n",
    "            'Baixa reflectância no vermelho',\n",
    "            'Padrões geométricos regulares',\n",
    "            'Textura rugosa/irregular',\n",
    "            'Bordas bem definidas',\n",
    "            'Variação interna homogênea',\n",
    "            'Indícios de atividade agrícola',\n",
    "            'Características de floresta'\n",
    "        ],\n",
    "        'Presente': ['Não' for _ in range(8)],\n",
    "        'Confiança': [0.0 for _ in range(8)]\n",
    "    })\n",
    "    \n",
    "    return checklist\n",
    "\n",
    "# Criar checklist para cada cluster\n",
    "cluster_checklists = {}\n",
    "for cluster in range(model.n_clusters):\n",
    "    cluster_checklists[cluster] = create_cluster_checklist(cluster)\n",
    "    print(f\"\\nCluster {cluster}:\")\n",
    "    display(cluster_checklists[cluster])"
   ]
  },
  {
   "cell_type": "markdown",
   "metadata": {},
   "source": [
    "## 5. Análise Temporal (se disponível)\n",
    "\n",
    "Se você tiver dados temporais disponíveis, é importante analisar as mudanças ao longo do tempo:"
   ]
  },
  {
   "cell_type": "code",
   "execution_count": null,
   "metadata": {},
   "source": [
    "def plot_temporal_patterns(cluster_id):\n",
    "    \"\"\"Plotar padrões temporais se disponíveis\"\"\"\n",
    "    # Este é um exemplo - implemente de acordo com seus dados temporais\n",
    "    print(f\"Análise temporal para Cluster {cluster_id}:\")\n",
    "    print(\"- Verifique variações sazonais\")\n",
    "    print(\"- Compare com calendário agrícola da região\")\n",
    "    print(\"- Observe padrões de manejo florestal\")"
   ]
  },
  {
   "cell_type": "markdown",
   "metadata": {},
   "source": [
    "## 6. Processo de Categorização\n",
    "\n",
    "Agora vamos categorizar cada cluster baseado nas evidências coletadas:"
   ]
  },
  {
   "cell_type": "code",
   "execution_count": null,
   "metadata": {},
   "source": [
    "categorizer = ClusterCategorizer(n_clusters=model.n_clusters)\n",
    "\n",
    "def categorize_cluster_with_evidence(cluster_id, checklist):\n",
    "    \"\"\"Categorizar cluster com base nas evidências\"\"\"\n",
    "    # Análise das características predominantes\n",
    "    agricultural_score = 0\n",
    "    forest_score = 0\n",
    "    \n",
    "    # Calcular scores baseado no checklist\n",
    "    # Implemente sua lógica de pontuação aqui\n",
    "    \n",
    "    print(f\"\\nAnálise do Cluster {cluster_id}:\")\n",
    "    print(f\"Score Agrícola: {agricultural_score}\")\n",
    "    print(f\"Score Florestal: {forest_score}\")\n",
    "    \n",
    "    # Solicitar input do usuário para confirmação\n",
    "    print(\"\\nCategorias possíveis:\")\n",
    "    print(\"1. Floresta densa\")\n",
    "    print(\"2. Agricultura estabelecida\")\n",
    "    print(\"3. Agricultura inicial\")\n",
    "    print(\"4. Floresta em regeneração\")\n",
    "    print(\"5. Sistema agroflorestal\")\n",
    "    print(\"6. Outro (especificar)\")\n",
    "    \n",
    "    # Aqui você deve interagir com o usuário para confirmar a categoria\n",
    "    print(\"\\nPor favor, revise as evidências e confirme a categoria manualmente.\")\n",
    "\n",
    "# Analisar cada cluster\n",
    "for cluster in range(model.n_clusters):\n",
    "    categorize_cluster_with_evidence(cluster, cluster_checklists[cluster])"
   ]
  },
  {
   "cell_type": "markdown",
   "metadata": {},
   "source": [
    "## 7. Documentação e Validação Final\n",
    "\n",
    "Para cada cluster categorizado, documente:\n",
    "\n",
    "1. **Evidências Utilizadas**:\n",
    "   - Características espectrais\n",
    "   - Padrões espaciais\n",
    "   - Dados temporais (se disponíveis)\n",
    "   - Conhecimento local\n",
    "\n",
    "2. **Nível de Confiança**:\n",
    "   - Baseado na quantidade e qualidade das evidências\n",
    "   - Considerar ambiguidades e incertezas\n",
    "\n",
    "3. **Validação Cruzada**:\n",
    "   - Comparação com mapas existentes\n",
    "   - Verificação em campo (se possível)\n",
    "   - Opinião de especialistas\n",
    "\n",
    "4. **Limitações**:\n",
    "   - Documentar casos ambíguos\n",
    "   - Identificar possíveis fontes de erro\n",
    "   - Sugerir melhorias para futuras análises"
   ]
  },
  {
   "cell_type": "code",
   "execution_count": null,
   "metadata": {},
   "source": [
    "def document_categorization(cluster_id, category, confidence, evidence):\n",
    "    \"\"\"Documentar a categorização final com todas as evidências\"\"\"\n",
    "    categorizer.categorize_cluster(\n",
    "        cluster_id=cluster_id,\n",
    "        category=category,\n",
    "        description=evidence,\n",
    "        confidence=confidence\n",
    "    )\n",
    "\n",
    "# Exemplo de documentação\n",
    "evidence_example = \"\"\"\n",
    "Evidências para categorização:\n",
    "1. Características espectrais:\n",
    "   - Alta reflectância no NIR\n",
    "   - Baixa reflectância no vermelho\n",
    "2. Padrões espaciais:\n",
    "   - Textura homogênea\n",
    "   - Ausência de padrões geométricos\n",
    "3. Validação:\n",
    "   - Confirmado com imagens de alta resolução\n",
    "   - Consistente com mapa florestal da região\n",
    "4. Limitações:\n",
    "   - Possível confusão em áreas de borda\n",
    "   - Necessidade de validação sazonal\n",
    "\"\"\"\n",
    "\n",
    "# Salvar a documentação final\n",
    "categorizer.save_categories('../data/categorias_validadas.json')"
   ]
  }
 ],
 "metadata": {
  "kernelspec": {
   "display_name": "Python 3",
   "language": "python",
   "name": "python3"
  },
  "language_info": {
   "codemirror_mode": {
    "name": "ipython",
    "version": 3
   },
   "file_extension": ".py",
   "mimetype": "text/x-python",
   "name": "python",
   "nbconvert_exporter": "python",
   "pygments_lexer": "ipython3",
   "version": "3.8.0"
  }
 },
 "nbformat": 4,
 "nbformat_minor": 4
}
