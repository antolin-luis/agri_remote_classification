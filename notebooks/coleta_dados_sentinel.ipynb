{
 "cells": [
  {
   "cell_type": "markdown",
   "metadata": {},
   "source": [
    "# Coleta de Dados do Sentinel-2 usando Google Earth Engine\n",
    "\n",
    "Este notebook demonstra como coletar dados do Sentinel-2 para áreas de interesse definidas em arquivos KML."
   ]
  },
  {
   "cell_type": "code",
   "execution_count": null,
   "metadata": {},
   "source": [
    "import sys\n",
    "sys.path.append('..')\n",
    "\n",
    "import ee\n",
    "from pathlib import Path\n",
    "from src.data.gee_collector import SentinelCollector\n",
    "from src.data.geometry_handler import GeometryHandler\n",
    "\n",
    "# Inicializar Earth Engine\n",
    "ee.Initialize()"
   ]
  },
  {
   "cell_type": "markdown",
   "metadata": {},
   "source": [
    "## 1. Configurar o Coletor de Dados\n",
    "\n",
    "Primeiro, vamos configurar o SentinelCollector com os diretórios necessários:"
   ]
  },
  {
   "cell_type": "code",
   "execution_count": null,
   "metadata": {},
   "source": [
    "# Configurar diretórios\n",
    "data_dir = Path('../data')\n",
    "kml_dir = data_dir / 'kmls'\n",
    "output_dir = data_dir / 'tiffs'\n",
    "\n",
    "# Criar diretórios se não existirem\n",
    "kml_dir.mkdir(parents=True, exist_ok=True)\n",
    "output_dir.mkdir(parents=True, exist_ok=True)\n",
    "\n",
    "# Inicializar o coletor\n",
    "collector = SentinelCollector(\n",
    "    output_dir=str(output_dir),\n",
    "    geometry_handler=GeometryHandler()\n",
    ")"
   ]
  },
  {
   "cell_type": "markdown",
   "metadata": {},
   "source": [
    "## 2. Coletar Dados para Treinamento e Validação\n",
    "\n",
    "Vamos coletar dados usando KMLs separados para áreas de treinamento e validação:"
   ]
  },
  {
   "cell_type": "code",
   "execution_count": null,
   "metadata": {},
   "source": [
    "# Definir caminhos dos KMLs\n",
    "train_kml = str(kml_dir / 'areas_treino.kml')\n",
    "val_kml = str(kml_dir / 'areas_validacao.kml')\n",
    "\n",
    "# Carregar regiões dos KMLs\n",
    "train_regions = collector.load_regions(train_kml)\n",
    "val_regions = collector.load_regions(val_kml)\n",
    "\n",
    "# Coletar imagens do Sentinel-2\n",
    "train_collection = collector.get_sentinel_collection(\n",
    "    regions=train_regions,\n",
    "    years_back=2,  # Últimos 2 anos de dados\n",
    "    max_cloud_cover=20  # Máximo de 20% de cobertura de nuvens\n",
    ")\n",
    "\n",
    "val_collection = collector.get_sentinel_collection(\n",
    "    regions=val_regions,\n",
    "    years_back=2,\n",
    "    max_cloud_cover=20\n",
    ")"
   ]
  },
  {
   "cell_type": "markdown",
   "metadata": {},
   "source": [
    "## 3. Exportar para GeoTIFF\n",
    "\n",
    "Agora vamos exportar as imagens coletadas para arquivos GeoTIFF:"
   ]
  },
  {
   "cell_type": "code",
   "execution_count": null,
   "metadata": {},
   "source": [
    "# Configurar parâmetros de exportação\n",
    "export_params = {\n",
    "    'scale': 10,  # Resolução de 10 metros\n",
    "    'patch_size': 64,  # Tamanho do patch em pixels\n",
    "    'bands': ['B8', 'B4', 'B11']  # Bandas relevantes para vegetação\n",
    "}\n",
    "\n",
    "# Exportar dados de treino\n",
    "collector.export_to_drive(\n",
    "    collection=train_collection,\n",
    "    regions=train_regions,\n",
    "    output_prefix='treino',\n",
    "    **export_params\n",
    ")\n",
    "\n",
    "# Exportar dados de validação\n",
    "collector.export_to_drive(\n",
    "    collection=val_collection,\n",
    "    regions=val_regions,\n",
    "    output_prefix='validacao',\n",
    "    **export_params\n",
    ")"
   ]
  },
  {
   "cell_type": "markdown",
   "metadata": {},
   "source": [
    "## 4. Monitorar Exportação\n",
    "\n",
    "As tarefas de exportação serão executadas no Google Earth Engine. Você pode monitorar o progresso no painel de tarefas do Earth Engine (https://code.earthengine.google.com/tasks).\n",
    "\n",
    "Após a conclusão, os arquivos estarão disponíveis no seu Google Drive na pasta especificada."
   ]
  },
  {
   "cell_type": "markdown",
   "metadata": {},
   "source": [
    "## 5. Próximos Passos\n",
    "\n",
    "Depois que os dados forem exportados:\n",
    "1. Baixe os arquivos GeoTIFF do Google Drive\n",
    "2. Mova-os para o diretório apropriado no projeto\n",
    "3. Use o TiffLoader para carregar os dados no formato adequado para treinamento\n",
    "\n",
    "Importante: Certifique-se de que você tem:\n",
    "- Acesso configurado ao Google Earth Engine\n",
    "- Espaço suficiente no Google Drive\n",
    "- KMLs bem definidos para suas áreas de interesse"
   ]
  }
 ],
 "metadata": {
  "kernelspec": {
   "display_name": "Python 3",
   "language": "python",
   "name": "python3"
  },
  "language_info": {
   "codemirror_mode": {
    "name": "ipython",
    "version": 3
   },
   "file_extension": ".py",
   "mimetype": "text/x-python",
   "name": "python",
   "nbconvert_exporter": "python",
   "pygments_lexer": "ipython3",
   "version": "3.8.0"
  }
 },
 "nbformat": 4,
 "nbformat_minor": 4
}
