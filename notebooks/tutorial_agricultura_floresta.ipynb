{
 "cells": [
  {
   "cell_type": "markdown",
   "metadata": {},
   "source": [
    "# Tutorial: Classificação Não Supervisionada de Áreas Agrícolas e Florestais usando CNN\n",
    "\n",
    "Este notebook apresenta um guia passo a passo sobre como usar Redes Neurais Convolucionais (CNN) para identificar e classificar automaticamente áreas agrícolas e florestais usando imagens de sensoriamento remoto do Sentinel-2.\n",
    "\n",
    "## Conteúdo:\n",
    "1. Introdução ao Sensoriamento Remoto para Agricultura e Floresta\n",
    "2. Preparação dos Dados\n",
    "3. Implementação do Modelo\n",
    "4. Treinamento e Validação\n",
    "5. Visualização e Análise dos Resultados\n",
    "\n",
    "## 1. Introdução\n",
    "\n",
    "### 1.1 Sensoriamento Remoto na Agricultura e Floresta\n",
    "O sensoriamento remoto é uma ferramenta fundamental para monitoramento agrícola e florestal, permitindo:\n",
    "- Identificação de diferentes culturas agrícolas\n",
    "- Monitoramento do desenvolvimento da vegetação\n",
    "- Detecção de desmatamento\n",
    "- Análise de saúde da vegetação\n",
    "- Identificação de áreas de expansão agrícola\n",
    "\n",
    "### 1.2 Por que usar CNN?\n",
    "CNNs são especialmente eficazes para análise de imagens agrícolas e florestais porque:\n",
    "- Podem identificar padrões complexos de cultivo\n",
    "- Reconhecem diferentes estágios de crescimento da vegetação\n",
    "- Diferenciam tipos de cobertura florestal\n",
    "- São robustas a variações sazonais\n",
    "\n",
    "### 1.3 Abordagem Não Supervisionada\n",
    "A abordagem não supervisionada é particularmente útil no contexto agrícola e florestal porque:\n",
    "- Não requer dados rotulados extensivos\n",
    "- Pode descobrir padrões naturais de uso do solo\n",
    "- Adapta-se a diferentes regiões e tipos de vegetação"
   ]
  },
  {
   "cell_type": "markdown",
   "metadata": {},
   "source": [
    "## 2. Preparação do Ambiente\n",
    "\n",
    "Primeiro, vamos importar as bibliotecas necessárias:"
   ]
  },
  {
   "cell_type": "code",
   "execution_count": 3,
   "metadata": {},
   "outputs": [
    {
     "name": "stderr",
     "output_type": "stream",
     "text": [
      "2025-04-01 15:49:05.753029: E external/local_xla/xla/stream_executor/cuda/cuda_fft.cc:467] Unable to register cuFFT factory: Attempting to register factory for plugin cuFFT when one has already been registered\n",
      "WARNING: All log messages before absl::InitializeLog() is called are written to STDERR\n",
      "E0000 00:00:1743533345.844836   25114 cuda_dnn.cc:8579] Unable to register cuDNN factory: Attempting to register factory for plugin cuDNN when one has already been registered\n",
      "E0000 00:00:1743533345.869664   25114 cuda_blas.cc:1407] Unable to register cuBLAS factory: Attempting to register factory for plugin cuBLAS when one has already been registered\n",
      "W0000 00:00:1743533346.076042   25114 computation_placer.cc:177] computation placer already registered. Please check linkage and avoid linking the same target more than once.\n",
      "W0000 00:00:1743533346.076079   25114 computation_placer.cc:177] computation placer already registered. Please check linkage and avoid linking the same target more than once.\n",
      "W0000 00:00:1743533346.076082   25114 computation_placer.cc:177] computation placer already registered. Please check linkage and avoid linking the same target more than once.\n",
      "W0000 00:00:1743533346.076085   25114 computation_placer.cc:177] computation placer already registered. Please check linkage and avoid linking the same target more than once.\n",
      "2025-04-01 15:49:06.114802: I tensorflow/core/platform/cpu_feature_guard.cc:210] This TensorFlow binary is optimized to use available CPU instructions in performance-critical operations.\n",
      "To enable the following instructions: AVX2 FMA, in other operations, rebuild TensorFlow with the appropriate compiler flags.\n"
     ]
    },
    {
     "ename": "OSError",
     "evalue": "'seaborn' is not a valid package style, path of style file, URL of style file, or library style name (library styles are listed in `style.available`)",
     "output_type": "error",
     "traceback": [
      "\u001b[0;31m---------------------------------------------------------------------------\u001b[0m",
      "\u001b[0;31mFileNotFoundError\u001b[0m                         Traceback (most recent call last)",
      "File \u001b[0;32m~/code/agri_remote_classification/.rmt/lib/python3.10/site-packages/matplotlib/style/core.py:129\u001b[0m, in \u001b[0;36muse\u001b[0;34m(style)\u001b[0m\n\u001b[1;32m    128\u001b[0m \u001b[38;5;28;01mtry\u001b[39;00m:\n\u001b[0;32m--> 129\u001b[0m     style \u001b[38;5;241m=\u001b[39m \u001b[43m_rc_params_in_file\u001b[49m\u001b[43m(\u001b[49m\u001b[43mstyle\u001b[49m\u001b[43m)\u001b[49m\n\u001b[1;32m    130\u001b[0m \u001b[38;5;28;01mexcept\u001b[39;00m \u001b[38;5;167;01mOSError\u001b[39;00m \u001b[38;5;28;01mas\u001b[39;00m err:\n",
      "File \u001b[0;32m~/code/agri_remote_classification/.rmt/lib/python3.10/site-packages/matplotlib/__init__.py:903\u001b[0m, in \u001b[0;36m_rc_params_in_file\u001b[0;34m(fname, transform, fail_on_error)\u001b[0m\n\u001b[1;32m    902\u001b[0m rc_temp \u001b[38;5;241m=\u001b[39m {}\n\u001b[0;32m--> 903\u001b[0m \u001b[38;5;28;01mwith\u001b[39;00m _open_file_or_url(fname) \u001b[38;5;28;01mas\u001b[39;00m fd:\n\u001b[1;32m    904\u001b[0m     \u001b[38;5;28;01mtry\u001b[39;00m:\n",
      "File \u001b[0;32m/usr/lib/python3.10/contextlib.py:135\u001b[0m, in \u001b[0;36m_GeneratorContextManager.__enter__\u001b[0;34m(self)\u001b[0m\n\u001b[1;32m    134\u001b[0m \u001b[38;5;28;01mtry\u001b[39;00m:\n\u001b[0;32m--> 135\u001b[0m     \u001b[38;5;28;01mreturn\u001b[39;00m \u001b[38;5;28;43mnext\u001b[39;49m\u001b[43m(\u001b[49m\u001b[38;5;28;43mself\u001b[39;49m\u001b[38;5;241;43m.\u001b[39;49m\u001b[43mgen\u001b[49m\u001b[43m)\u001b[49m\n\u001b[1;32m    136\u001b[0m \u001b[38;5;28;01mexcept\u001b[39;00m \u001b[38;5;167;01mStopIteration\u001b[39;00m:\n",
      "File \u001b[0;32m~/code/agri_remote_classification/.rmt/lib/python3.10/site-packages/matplotlib/__init__.py:880\u001b[0m, in \u001b[0;36m_open_file_or_url\u001b[0;34m(fname)\u001b[0m\n\u001b[1;32m    879\u001b[0m fname \u001b[38;5;241m=\u001b[39m os\u001b[38;5;241m.\u001b[39mpath\u001b[38;5;241m.\u001b[39mexpanduser(fname)\n\u001b[0;32m--> 880\u001b[0m \u001b[38;5;28;01mwith\u001b[39;00m \u001b[38;5;28;43mopen\u001b[39;49m\u001b[43m(\u001b[49m\u001b[43mfname\u001b[49m\u001b[43m,\u001b[49m\u001b[43m \u001b[49m\u001b[43mencoding\u001b[49m\u001b[38;5;241;43m=\u001b[39;49m\u001b[38;5;124;43m'\u001b[39;49m\u001b[38;5;124;43mutf-8\u001b[39;49m\u001b[38;5;124;43m'\u001b[39;49m\u001b[43m)\u001b[49m \u001b[38;5;28;01mas\u001b[39;00m f:\n\u001b[1;32m    881\u001b[0m     \u001b[38;5;28;01myield\u001b[39;00m f\n",
      "\u001b[0;31mFileNotFoundError\u001b[0m: [Errno 2] No such file or directory: 'seaborn'",
      "\nThe above exception was the direct cause of the following exception:\n",
      "\u001b[0;31mOSError\u001b[0m                                   Traceback (most recent call last)",
      "Cell \u001b[0;32mIn[3], line 12\u001b[0m\n\u001b[1;32m      9\u001b[0m \u001b[38;5;28;01mimport\u001b[39;00m\u001b[38;5;250m \u001b[39m\u001b[38;5;21;01mmlflow\u001b[39;00m\n\u001b[1;32m     10\u001b[0m \u001b[38;5;28;01mimport\u001b[39;00m\u001b[38;5;250m \u001b[39m\u001b[38;5;21;01mseaborn\u001b[39;00m\u001b[38;5;250m \u001b[39m\u001b[38;5;28;01mas\u001b[39;00m\u001b[38;5;250m \u001b[39m\u001b[38;5;21;01msns\u001b[39;00m\n\u001b[0;32m---> 12\u001b[0m \u001b[43mplt\u001b[49m\u001b[38;5;241;43m.\u001b[39;49m\u001b[43mstyle\u001b[49m\u001b[38;5;241;43m.\u001b[39;49m\u001b[43muse\u001b[49m\u001b[43m(\u001b[49m\u001b[38;5;124;43m'\u001b[39;49m\u001b[38;5;124;43mseaborn\u001b[39;49m\u001b[38;5;124;43m'\u001b[39;49m\u001b[43m)\u001b[49m\n\u001b[1;32m     13\u001b[0m get_ipython()\u001b[38;5;241m.\u001b[39mrun_line_magic(\u001b[38;5;124m'\u001b[39m\u001b[38;5;124mmatplotlib\u001b[39m\u001b[38;5;124m'\u001b[39m, \u001b[38;5;124m'\u001b[39m\u001b[38;5;124minline\u001b[39m\u001b[38;5;124m'\u001b[39m)\n",
      "File \u001b[0;32m~/code/agri_remote_classification/.rmt/lib/python3.10/site-packages/matplotlib/style/core.py:131\u001b[0m, in \u001b[0;36muse\u001b[0;34m(style)\u001b[0m\n\u001b[1;32m    129\u001b[0m         style \u001b[38;5;241m=\u001b[39m _rc_params_in_file(style)\n\u001b[1;32m    130\u001b[0m     \u001b[38;5;28;01mexcept\u001b[39;00m \u001b[38;5;167;01mOSError\u001b[39;00m \u001b[38;5;28;01mas\u001b[39;00m err:\n\u001b[0;32m--> 131\u001b[0m         \u001b[38;5;28;01mraise\u001b[39;00m \u001b[38;5;167;01mOSError\u001b[39;00m(\n\u001b[1;32m    132\u001b[0m             \u001b[38;5;124mf\u001b[39m\u001b[38;5;124m\"\u001b[39m\u001b[38;5;132;01m{\u001b[39;00mstyle\u001b[38;5;132;01m!r}\u001b[39;00m\u001b[38;5;124m is not a valid package style, path of style \u001b[39m\u001b[38;5;124m\"\u001b[39m\n\u001b[1;32m    133\u001b[0m             \u001b[38;5;124mf\u001b[39m\u001b[38;5;124m\"\u001b[39m\u001b[38;5;124mfile, URL of style file, or library style name (library \u001b[39m\u001b[38;5;124m\"\u001b[39m\n\u001b[1;32m    134\u001b[0m             \u001b[38;5;124mf\u001b[39m\u001b[38;5;124m\"\u001b[39m\u001b[38;5;124mstyles are listed in `style.available`)\u001b[39m\u001b[38;5;124m\"\u001b[39m) \u001b[38;5;28;01mfrom\u001b[39;00m\u001b[38;5;250m \u001b[39m\u001b[38;5;21;01merr\u001b[39;00m\n\u001b[1;32m    135\u001b[0m filtered \u001b[38;5;241m=\u001b[39m {}\n\u001b[1;32m    136\u001b[0m \u001b[38;5;28;01mfor\u001b[39;00m k \u001b[38;5;129;01min\u001b[39;00m style:  \u001b[38;5;66;03m# don't trigger RcParams.__getitem__('backend')\u001b[39;00m\n",
      "\u001b[0;31mOSError\u001b[0m: 'seaborn' is not a valid package style, path of style file, URL of style file, or library style name (library styles are listed in `style.available`)"
     ]
    }
   ],
   "source": [
    "import sys\n",
    "sys.path.append('..')\n",
    "\n",
    "import tensorflow as tf\n",
    "import numpy as np\n",
    "import matplotlib.pyplot as plt\n",
    "from src.data.tiff_loader import TiffLoader\n",
    "from src.models.unsupervised_cnn import UnsupervisedCNN\n",
    "import mlflow\n",
    "import seaborn as sns\n",
    "\n",
    "plt.style.use('seaborn')\n",
    "%matplotlib inline"
   ]
  },
  {
   "cell_type": "markdown",
   "metadata": {},
   "source": [
    "## 3. Entendendo os Dados do Sentinel-2 para Agricultura e Floresta\n",
    "\n",
    "### 3.1 Bandas Espectrais Relevantes\n",
    "\n",
    "As bandas selecionadas são especialmente úteis para análise agrícola e florestal:\n",
    "\n",
    "- **B8 (NIR - 842nm)**:\n",
    "  - Alta reflectância em vegetação saudável\n",
    "  - Excelente para avaliar biomassa\n",
    "  - Diferencia tipos de culturas\n",
    "\n",
    "- **B4 (Red - 665nm)**:\n",
    "  - Absorção por clorofila\n",
    "  - Indica estresse da vegetação\n",
    "  - Útil para distinguir solo exposto\n",
    "\n",
    "- **B11 (SWIR - 1610nm)**:\n",
    "  - Sensível ao conteúdo de água\n",
    "  - Ajuda a distinguir tipos de culturas\n",
    "  - Útil para identificar áreas irrigadas\n",
    "\n",
    "### 3.2 Carregando os Dados"
   ]
  },
  {
   "cell_type": "code",
   "execution_count": null,
   "metadata": {},
   "outputs": [],
   "source": [
    "# Inicializar o loader\n",
    "loader = TiffLoader(\n",
    "    train_val_dir='../data/train',\n",
    "    prediction_dir='../data/predict',\n",
    "    patch_size=64\n",
    ")\n",
    "\n",
    "# Carregar dados de treino e validação\n",
    "train_ds, val_ds = loader.load_train_val_data(val_split=0.2)\n",
    "\n",
    "# Preparar os datasets\n",
    "train_ds = loader.prepare_dataset(train_ds, batch_size=32, shuffle=True, augment=True)\n",
    "val_ds = loader.prepare_dataset(val_ds, batch_size=32, shuffle=False)"
   ]
  },
  {
   "cell_type": "markdown",
   "metadata": {},
   "source": [
    "### 3.3 Visualizando Padrões Agrícolas e Florestais\n",
    "\n",
    "Vamos visualizar alguns exemplos e aprender a identificar diferentes padrões:"
   ]
  },
  {
   "cell_type": "code",
   "execution_count": null,
   "metadata": {},
   "outputs": [],
   "source": [
    "def plot_patches(dataset, num_patches=5):\n",
    "    plt.figure(figsize=(15, 3))\n",
    "    for i, batch in enumerate(dataset.take(1)):\n",
    "        for j in range(num_patches):\n",
    "            plt.subplot(1, num_patches, j+1)\n",
    "            rgb = batch[j].numpy()\n",
    "            plt.imshow(rgb)\n",
    "            plt.axis('off')\n",
    "            plt.title(f'Patch {j+1}')\n",
    "    plt.tight_layout()\n",
    "\n",
    "plot_patches(train_ds)"
   ]
  },
  {
   "cell_type": "markdown",
   "metadata": {},
   "source": [
    "## 4. Implementação e Treinamento do Modelo\n",
    "\n",
    "### 4.1 Arquitetura do Modelo\n",
    "\n",
    "Nossa CNN é otimizada para detectar:\n",
    "- Padrões regulares de cultivo agrícola\n",
    "- Texturas características de florestas\n",
    "- Diferentes estágios de crescimento\n",
    "- Áreas de transição agricultura-floresta"
   ]
  },
  {
   "cell_type": "code",
   "execution_count": null,
   "metadata": {},
   "outputs": [],
   "source": [
    "# Inicializar o modelo\n",
    "model = UnsupervisedCNN(\n",
    "    input_shape=(64, 64, 3),\n",
    "    n_clusters=5,  # Ajuste baseado nos tipos esperados de cobertura\n",
    "    latent_dim=128,\n",
    "    experiment_name='agricultura_floresta_classificacao'\n",
    ")\n",
    "\n",
    "# Converter dataset para numpy array\n",
    "X_train = np.concatenate([batch.numpy() for batch in train_ds], axis=0)\n",
    "\n",
    "# Treinar o modelo\n",
    "model.train(\n",
    "    X=X_train,\n",
    "    epochs=50,\n",
    "    batch_size=32,\n",
    "    validation_split=0.2,\n",
    "    model_params={'description': 'Classificação Agricultura-Floresta'}\n",
    ")"
   ]
  },
  {
   "cell_type": "markdown",
   "metadata": {},
   "source": [
    "## 5. Interpretação dos Resultados\n",
    "\n",
    "### 5.1 Padrões Esperados\n",
    "\n",
    "Ao analisar os clusters, procure por:\n",
    "\n",
    "**Áreas Agrícolas:**\n",
    "- Padrões geométricos regulares\n",
    "- Variações de intensidade por estágio de cultivo\n",
    "- Bordas bem definidas entre talhões\n",
    "\n",
    "**Áreas Florestais:**\n",
    "- Textura mais rugosa e irregular\n",
    "- Alta resposta no NIR (B8)\n",
    "- Padrão mais homogêneo em grandes áreas\n",
    "\n",
    "**Transições e Casos Especiais:**\n",
    "- Áreas de regeneração florestal\n",
    "- Sistemas agroflorestais\n",
    "- Agricultura em diferentes estágios"
   ]
  },
  {
   "cell_type": "code",
   "execution_count": null,
   "metadata": {},
   "outputs": [],
   "source": [
    "# Fazer predições\n",
    "predictions = model.predict(X_train)\n",
    "\n",
    "# Visualizar exemplos de cada cluster\n",
    "plt.figure(figsize=(15, 3*model.n_clusters))\n",
    "for cluster in range(model.n_clusters):\n",
    "    cluster_samples = X_train[predictions == cluster][:5]\n",
    "    for j, sample in enumerate(cluster_samples):\n",
    "        plt.subplot(model.n_clusters, 5, cluster*5 + j + 1)\n",
    "        plt.imshow(sample)\n",
    "        plt.axis('off')\n",
    "        if j == 0:\n",
    "            plt.ylabel(f'Cluster {cluster}')\n",
    "plt.tight_layout()"
   ]
  },
  {
   "cell_type": "markdown",
   "metadata": {},
   "source": [
    "## 6. Categorização dos Clusters\n",
    "\n",
    "Vamos categorizar os clusters com foco em agricultura e floresta:"
   ]
  },
  {
   "cell_type": "code",
   "execution_count": null,
   "metadata": {},
   "outputs": [],
   "source": [
    "from src.models.cluster_categorizer import ClusterCategorizer\n",
    "\n",
    "categorizer = ClusterCategorizer(n_clusters=model.n_clusters)\n",
    "\n",
    "# Exemplo de categorias específicas para agricultura e floresta\n",
    "categorias_exemplo = [\n",
    "    ('floresta_densa', 'Floresta madura com dossel fechado'),\n",
    "    ('agricultura_estabelecida', 'Culturas em estágio avançado'),\n",
    "    ('agricultura_inicial', 'Áreas recém plantadas ou em preparo'),\n",
    "    ('floresta_regeneracao', 'Áreas em processo de regeneração florestal'),\n",
    "    ('agroflorestal', 'Sistemas que combinam agricultura e floresta')\n",
    "]\n",
    "\n",
    "# Categorizar clusters\n",
    "for i, (categoria, descricao) in enumerate(categorias_exemplo):\n",
    "    if i < model.n_clusters:\n",
    "        categorizer.categorize_cluster(\n",
    "            cluster_id=i,\n",
    "            category=categoria,\n",
    "            description=descricao,\n",
    "            confidence=0.8\n",
    "        )\n",
    "\n",
    "# Visualizar resultados\n",
    "categorizer.plot_cluster_samples(X_train, predictions)"
   ]
  },
  {
   "cell_type": "markdown",
   "metadata": {},
   "source": [
    "## 7. Dicas para Interpretação\n",
    "\n",
    "### 7.1 Características Espectrais\n",
    "\n",
    "**Floresta:**\n",
    "- Alta reflectância no NIR (B8)\n",
    "- Baixa reflectância no vermelho (B4)\n",
    "- Valores intermediários no SWIR (B11)\n",
    "\n",
    "**Agricultura:**\n",
    "- Variação sazonal na reflectância\n",
    "- Padrões distintos por tipo de cultura\n",
    "- Resposta espectral varia com estágio de crescimento\n",
    "\n",
    "### 7.2 Padrões Espaciais\n",
    "\n",
    "**Floresta:**\n",
    "- Textura rugosa\n",
    "- Bordas naturais irregulares\n",
    "- Variação gradual de densidade\n",
    "\n",
    "**Agricultura:**\n",
    "- Formas geométricas regulares\n",
    "- Bordas bem definidas\n",
    "- Padrões de plantio visíveis\n",
    "\n",
    "### 7.3 Validação\n",
    "\n",
    "Para validar suas interpretações:\n",
    "1. Compare com mapas de uso do solo existentes\n",
    "2. Verifique histórico da área\n",
    "3. Use conhecimento local quando possível\n",
    "4. Considere a sazonalidade agrícola da região"
   ]
  }
 ],
 "metadata": {
  "kernelspec": {
   "display_name": ".rmt",
   "language": "python",
   "name": "python3"
  },
  "language_info": {
   "codemirror_mode": {
    "name": "ipython",
    "version": 3
   },
   "file_extension": ".py",
   "mimetype": "text/x-python",
   "name": "python",
   "nbconvert_exporter": "python",
   "pygments_lexer": "ipython3",
   "version": "3.10.12"
  }
 },
 "nbformat": 4,
 "nbformat_minor": 4
}
