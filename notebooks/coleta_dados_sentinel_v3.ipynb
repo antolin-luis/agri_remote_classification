{
 "cells": [
  {
   "cell_type": "markdown",
   "metadata": {},
   "source": [
    "# Coleta de Dados do Sentinel-2 usando Google Earth Engine\n",
    "\n",
    "Este notebook demonstra como coletar dados do Sentinel-2 para áreas de interesse definidas em arquivos KML."
   ]
  },
  {
   "cell_type": "code",
   "execution_count": 1,
   "metadata": {},
   "outputs": [],
   "source": [
    "import sys\n",
    "sys.path.append('..')\n",
    "\n",
    "import ee\n",
    "from pathlib import Path\n",
    "from src.data.gee_collector import SentinelCollector\n",
    "from src.data.geometry_handler import GeometryHandler"
   ]
  },
  {
   "cell_type": "markdown",
   "metadata": {},
   "source": [
    "## 1. Configurar o Ambiente\n",
    "\n",
    "Primeiro, vamos configurar os diretórios e inicializar os componentes necessários:"
   ]
  },
  {
   "cell_type": "code",
   "execution_count": 2,
   "metadata": {},
   "outputs": [],
   "source": [
    "# Configurar diretórios\n",
    "data_dir = Path('../data')\n",
    "kml_dir = data_dir / 'kmls'  # Diretório para todos os KMLs\n",
    "\n",
    "# Criar diretório se não existir\n",
    "kml_dir.mkdir(parents=True, exist_ok=True)\n",
    "\n",
    "# Inicializar o coletor\n",
    "geometry_handler = GeometryHandler()\n",
    "collector = SentinelCollector(train_val_dir=str(kml_dir))"
   ]
  },
  {
   "cell_type": "markdown",
   "metadata": {},
   "source": [
    "## 2. Carregar Regiões\n",
    "\n",
    "Vamos carregar todas as regiões dos KMLs:"
   ]
  },
  {
   "cell_type": "code",
   "execution_count": 3,
   "metadata": {},
   "outputs": [
    {
     "ename": "AttributeError",
     "evalue": "'GeometryHandler' object has no attribute 'load_kml_directory'",
     "output_type": "error",
     "traceback": [
      "\u001b[0;31m---------------------------------------------------------------------------\u001b[0m",
      "\u001b[0;31mAttributeError\u001b[0m                            Traceback (most recent call last)",
      "Cell \u001b[0;32mIn[3], line 2\u001b[0m\n\u001b[1;32m      1\u001b[0m \u001b[38;5;66;03m# Carregar todas as regiões dos KMLs\u001b[39;00m\n\u001b[0;32m----> 2\u001b[0m regions \u001b[38;5;241m=\u001b[39m \u001b[43mcollector\u001b[49m\u001b[38;5;241;43m.\u001b[39;49m\u001b[43mgeometry_handler\u001b[49m\u001b[38;5;241;43m.\u001b[39;49m\u001b[43mload_kml_directory\u001b[49m(\u001b[38;5;28mstr\u001b[39m(kml_dir))\n\u001b[1;32m      3\u001b[0m \u001b[38;5;28mprint\u001b[39m(\u001b[38;5;124mf\u001b[39m\u001b[38;5;124m\"\u001b[39m\u001b[38;5;124mNúmero total de regiões: \u001b[39m\u001b[38;5;132;01m{\u001b[39;00m\u001b[38;5;28mlen\u001b[39m(regions)\u001b[38;5;132;01m}\u001b[39;00m\u001b[38;5;124m\"\u001b[39m)\n",
      "\u001b[0;31mAttributeError\u001b[0m: 'GeometryHandler' object has no attribute 'load_kml_directory'"
     ]
    }
   ],
   "source": [
    "# Carregar todas as regiões dos KMLs\n",
    "regions, region_names = geometry_handler.load_kml_directory(kml_dir)\n",
    "print(f\"Número total de regiões: {len(regions)}\")"
   ]
  },
  {
   "cell_type": "markdown",
   "metadata": {},
   "source": [
    "## 3. Coletar Imagens do Sentinel-2\n",
    "\n",
    "Agora vamos coletar todas as imagens válidas dos últimos 5 anos:"
   ]
  },
  {
   "cell_type": "code",
   "execution_count": null,
   "metadata": {},
   "outputs": [],
   "source": [
    "# Coletar imagens\n",
    "collection = collector.get_sentinel_collection(\n",
    "    regions=regions,\n",
    "    years_back=2,  # Últimos 2 anos de dados\n",
    "    max_cloud_cover=20  # Máximo de 20% de cobertura de nuvens\n",
    ")"
   ]
  },
  {
   "cell_type": "markdown",
   "metadata": {},
   "source": [
    "## 4. Exportar para Google Drive\n",
    "\n",
    "Vamos exportar todas as imagens válidas para o Google Drive:"
   ]
  },
  {
   "cell_type": "code",
   "execution_count": null,
   "metadata": {},
   "outputs": [],
   "source": [
    "# Configurar parâmetros de exportação\n",
    "export_params = {\n",
    "    'scale': 10,  # Resolução de 10 metros\n",
    "    'bands': ['B8', 'B4', 'B11'],  # Bandas relevantes para vegetação\n",
    "    'folder': 'sentinel2_series',  # Pasta no Google Drive\n",
    "    'region_names': region_names  # Nomes das regiões dos KMLs\n",
    "}\n",
    "\n",
    "# Exportar todas as imagens\n",
    "collector.export_to_drive(\n",
    "    collection=collection,\n",
    "    regions=regions,\n",
    "    output_prefix='sentinel2',\n",
    "    **export_params\n",
    ")\n"
   ]
  },
  {
   "cell_type": "markdown",
   "metadata": {},
   "source": [
    "## 5. Monitoramento e Próximos Passos\n",
    "\n",
    "### Monitoramento\n",
    "As tarefas de exportação serão executadas no Google Earth Engine. Você pode monitorar o progresso em:\n",
    "https://code.earthengine.google.com/tasks\n",
    "\n",
    "### Organização dos KMLs\n",
    "- Coloque todos os seus arquivos KML no diretório `kmls`\n",
    "- O script irá processar todos os KMLs encontrados no diretório\n",
    "\n",
    "### Após a Exportação\n",
    "1. As imagens serão exportadas para a pasta 'sentinel2_series' no seu Google Drive\n",
    "2. Cada imagem terá o nome no formato: sentinel2_YYYY-MM-DD.tif\n",
    "3. As imagens serão exportadas no formato Cloud Optimized GeoTIFF\n",
    "\n",
    "### Importante\n",
    "Certifique-se de que você tem:\n",
    "- Acesso configurado ao Google Earth Engine\n",
    "- Espaço suficiente no Google Drive\n",
    "- KMLs bem definidos para suas áreas de interesse"
   ]
  }
 ],
 "metadata": {
  "kernelspec": {
   "display_name": ".rmt",
   "language": "python",
   "name": "python3"
  },
  "language_info": {
   "codemirror_mode": {
    "name": "ipython",
    "version": 3
   },
   "file_extension": ".py",
   "mimetype": "text/x-python",
   "name": "python",
   "nbconvert_exporter": "python",
   "pygments_lexer": "ipython3",
   "version": "3.10.12"
  }
 },
 "nbformat": 4,
 "nbformat_minor": 4
}
