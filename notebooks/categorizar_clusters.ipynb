{
 "cells": [
  {
   "cell_type": "markdown",
   "metadata": {},
   "source": [
    "# Categorização Manual dos Clusters\n",
    "\n",
    "Este notebook guia você através do processo de categorização manual dos clusters identificados pelo modelo não supervisionado. O objetivo é atribuir significado semântico aos padrões descobertos automaticamente.\n",
    "\n",
    "## Processo de Categorização:\n",
    "1. Visualizar amostras de cada cluster\n",
    "2. Identificar padrões visuais\n",
    "3. Atribuir categorias significativas\n",
    "4. Documentar o processo de decisão\n",
    "5. Salvar as categorizações para uso futuro"
   ]
  },
  {
   "cell_type": "code",
   "execution_count": null,
   "metadata": {},
   "source": [
    "import sys\n",
    "sys.path.append('..')\n",
    "\n",
    "import numpy as np\n",
    "import matplotlib.pyplot as plt\n",
    "from src.models.cluster_categorizer import ClusterCategorizer\n",
    "from src.models.unsupervised_cnn import UnsupervisedCNN\n",
    "from src.data.tiff_loader import TiffLoader\n",
    "\n",
    "%matplotlib inline\n",
    "plt.style.use('seaborn')"
   ]
  },
  {
   "cell_type": "markdown",
   "metadata": {},
   "source": [
    "## 1. Carregar o Modelo e os Dados"
   ]
  },
  {
   "cell_type": "code",
   "execution_count": null,
   "metadata": {},
   "source": [
    "# Carregar o modelo treinado (ajuste o caminho conforme necessário)\n",
    "model = UnsupervisedCNN.load_model('path_to_your_model')\n",
    "\n",
    "# Carregar alguns dados para visualização\n",
    "loader = TiffLoader(train_val_dir='../data/train')\n",
    "train_ds, _ = loader.load_train_val_data()\n",
    "X_samples = np.concatenate([batch.numpy() for batch in train_ds.take(10)], axis=0)\n",
    "predictions = model.predict(X_samples)"
   ]
  },
  {
   "cell_type": "markdown",
   "metadata": {},
   "source": [
    "## 2. Visualizar Clusters para Categorização\n",
    "\n",
    "Vamos criar um categorizador e visualizar amostras de cada cluster:"
   ]
  },
  {
   "cell_type": "code",
   "execution_count": null,
   "metadata": {},
   "source": [
    "# Criar categorizador\n",
    "categorizer = ClusterCategorizer(n_clusters=model.n_clusters)\n",
    "\n",
    "# Visualizar amostras de cada cluster\n",
    "categorizer.plot_cluster_samples(X_samples, predictions)"
   ]
  },
  {
   "cell_type": "markdown",
   "metadata": {},
   "source": [
    "## 3. Categorização Manual\n",
    "\n",
    "Agora vamos categorizar cada cluster baseado nas características observadas. Algumas categorias comuns em sensoriamento remoto incluem:\n",
    "\n",
    "- Vegetação densa (floresta)\n",
    "- Vegetação esparsa\n",
    "- Área urbana\n",
    "- Solo exposto\n",
    "- Corpo d'água\n",
    "- Área agrícola\n",
    "- Pasto\n",
    "\n",
    "Para cada cluster, vamos:\n",
    "1. Observar as características visuais\n",
    "2. Atribuir uma categoria\n",
    "3. Adicionar uma descrição\n",
    "4. Definir um nível de confiança"
   ]
  },
  {
   "cell_type": "code",
   "execution_count": null,
   "metadata": {},
   "source": [
    "# Exemplo de categorização\n",
    "# Ajuste as categorias conforme sua análise visual\n",
    "\n",
    "# Cluster 0\n",
    "categorizer.categorize_cluster(\n",
    "    cluster_id=0,\n",
    "    category='vegetacao_densa',\n",
    "    description='Área com vegetação densa, possivelmente floresta',\n",
    "    confidence=0.9\n",
    ")\n",
    "\n",
    "# Cluster 1\n",
    "categorizer.categorize_cluster(\n",
    "    cluster_id=1,\n",
    "    category='area_urbana',\n",
    "    description='Região urbanizada com construções',\n",
    "    confidence=0.85\n",
    ")\n",
    "\n",
    "# Continue para os demais clusters...\n",
    "\n",
    "# Visualizar resultados da categorização\n",
    "categorizer.plot_cluster_samples(X_samples, predictions)"
   ]
  },
  {
   "cell_type": "markdown",
   "metadata": {},
   "source": [
    "## 4. Análise das Categorias\n",
    "\n",
    "Vamos ver um resumo das categorias atribuídas:"
   ]
  },
  {
   "cell_type": "code",
   "execution_count": null,
   "metadata": {},
   "source": [
    "# Exibir resumo das categorias\n",
    "summary = categorizer.get_category_summary()\n",
    "display(summary)"
   ]
  },
  {
   "cell_type": "markdown",
   "metadata": {},
   "source": [
    "## 5. Salvar Categorização\n",
    "\n",
    "Vamos salvar as categorias para uso futuro:"
   ]
  },
  {
   "cell_type": "code",
   "execution_count": null,
   "metadata": {},
   "source": [
    "# Salvar categorias\n",
    "categorizer.save_categories('../data/cluster_categories.json')\n",
    "\n",
    "# Exemplo de como carregar posteriormente\n",
    "loaded_categorizer = ClusterCategorizer.load_categories('../data/cluster_categories.json')"
   ]
  },
  {
   "cell_type": "markdown",
   "metadata": {},
   "source": [
    "## 6. Aplicar Categorias em Novas Predições\n",
    "\n",
    "Agora podemos usar as categorias para interpretar novas predições:"
   ]
  },
  {
   "cell_type": "code",
   "execution_count": null,
   "metadata": {},
   "source": [
    "# Fazer novas predições\n",
    "new_predictions = model.predict(X_samples)\n",
    "\n",
    "# Converter predições em categorias\n",
    "categories = categorizer.predict_categories(new_predictions)\n",
    "\n",
    "# Visualizar algumas predições com suas categorias\n",
    "plt.figure(figsize=(15, 5))\n",
    "for i in range(5):\n",
    "    plt.subplot(1, 5, i+1)\n",
    "    plt.imshow(X_samples[i])\n",
    "    plt.title(f'Categoria:\\n{categories[i]}')\n",
    "    plt.axis('off')\n",
    "plt.tight_layout()"
   ]
  },
  {
   "cell_type": "markdown",
   "metadata": {},
   "source": [
    "## 7. Dicas para Categorização\n",
    "\n",
    "Ao categorizar os clusters, considere:\n",
    "\n",
    "1. **Características Espectrais**:\n",
    "   - Vegetação saudável tem alta reflectância no NIR (B8)\n",
    "   - Água absorve fortemente no SWIR (B11)\n",
    "   - Áreas urbanas têm alta reflectância no vermelho (B4)\n",
    "\n",
    "2. **Padrões Espaciais**:\n",
    "   - Áreas urbanas têm padrões geométricos\n",
    "   - Florestas têm textura mais rugosa\n",
    "   - Agricultura tem padrões regulares\n",
    "\n",
    "3. **Nível de Confiança**:\n",
    "   - Use valores mais altos (>0.8) quando a categoria é clara\n",
    "   - Use valores mais baixos (<0.7) quando houver ambiguidade\n",
    "   - Documente incertezas nas descrições\n",
    "\n",
    "4. **Validação Cruzada**:\n",
    "   - Compare com mapas de referência\n",
    "   - Consulte especialistas quando possível\n",
    "   - Valide com conhecimento local da área"
   ]
  }
 ],
 "metadata": {
  "kernelspec": {
   "display_name": "Python 3",
   "language": "python",
   "name": "python3"
  },
  "language_info": {
   "codemirror_mode": {
    "name": "ipython",
    "version": 3
   },
   "file_extension": ".py",
   "mimetype": "text/x-python",
   "name": "python",
   "nbconvert_exporter": "python",
   "pygments_lexer": "ipython3",
   "version": "3.8.0"
  }
 },
 "nbformat": 4,
 "nbformat_minor": 4
}
